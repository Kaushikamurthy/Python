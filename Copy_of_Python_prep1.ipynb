{
  "nbformat": 4,
  "nbformat_minor": 0,
  "metadata": {
    "colab": {
      "provenance": [],
      "authorship_tag": "ABX9TyP4N3yunYkgQG5Cms2iCZ4K",
      "include_colab_link": true
    },
    "kernelspec": {
      "name": "python3",
      "display_name": "Python 3"
    },
    "language_info": {
      "name": "python"
    }
  },
  "cells": [
    {
      "cell_type": "markdown",
      "metadata": {
        "id": "view-in-github",
        "colab_type": "text"
      },
      "source": [
        "<a href=\"https://colab.research.google.com/github/Kaushikamurthy/Python/blob/main/Copy_of_Python_prep1.ipynb\" target=\"_parent\"><img src=\"https://colab.research.google.com/assets/colab-badge.svg\" alt=\"Open In Colab\"/></a>"
      ]
    },
    {
      "cell_type": "code",
      "execution_count": null,
      "metadata": {
        "colab": {
          "base_uri": "https://localhost:8080/"
        },
        "id": "wlT0PLLHBw2C",
        "outputId": "ffadbf3a-3a7f-4647-f554-6f9acafc25ce"
      },
      "outputs": [
        {
          "output_type": "stream",
          "name": "stdout",
          "text": [
            "Hello world\n"
          ]
        }
      ],
      "source": [
        "print(\"Hello world\")"
      ]
    },
    {
      "cell_type": "code",
      "source": [
        "print(\"kaushika\")"
      ],
      "metadata": {
        "colab": {
          "base_uri": "https://localhost:8080/"
        },
        "id": "oiJZ6qceDth-",
        "outputId": "0edb9bf5-0315-40e2-a5bf-3420b9a77054"
      },
      "execution_count": null,
      "outputs": [
        {
          "output_type": "stream",
          "name": "stdout",
          "text": [
            "kaushika\n"
          ]
        }
      ]
    },
    {
      "cell_type": "markdown",
      "source": [
        "Write a Python program to display the current date and time.\n"
      ],
      "metadata": {
        "id": "666RqoOchBRD"
      }
    },
    {
      "cell_type": "code",
      "source": [
        "import datetime\n",
        "now=datetime.datetime.now()\n",
        "print(\"the current date and time is:\")\n",
        "print(now.strftime(\"%d-%m-%Y  %H:%M:%S\"))"
      ],
      "metadata": {
        "colab": {
          "base_uri": "https://localhost:8080/"
        },
        "id": "IsoPakXccaEa",
        "outputId": "5d2ba0ce-c351-49b7-f8ee-5b8c8440e2ac"
      },
      "execution_count": null,
      "outputs": [
        {
          "output_type": "stream",
          "name": "stdout",
          "text": [
            "the current date and time is:\n",
            "11-12-2023  15:18:27\n"
          ]
        }
      ]
    },
    {
      "cell_type": "markdown",
      "source": [
        "Write a Python program that calculates the area of a circle based on the radius entered by the user.\n"
      ],
      "metadata": {
        "id": "RNl0B18gg4s6"
      }
    },
    {
      "cell_type": "code",
      "source": [
        "from math import pi\n",
        "r= float(input(\"Input the radius of the circle: \"))\n",
        "area= pi*r**2\n",
        "print(\"The area of the circle with radius \"+str(r) + \" is \"+ str(area))"
      ],
      "metadata": {
        "colab": {
          "base_uri": "https://localhost:8080/"
        },
        "id": "BL1iS9GfdFPn",
        "outputId": "a6c03509-bf97-4c51-99b3-211c77954afc"
      },
      "execution_count": null,
      "outputs": [
        {
          "output_type": "stream",
          "name": "stdout",
          "text": [
            "Input the radius of the circle: 4\n",
            "The area of the circle with radius 4.0 is 50.26548245743669\n"
          ]
        }
      ]
    },
    {
      "cell_type": "markdown",
      "source": [
        "Write a Python program that accepts the user's first and last name and prints them in reverse order with a space between them.\n"
      ],
      "metadata": {
        "id": "t4ZRCCfLg1wV"
      }
    },
    {
      "cell_type": "code",
      "source": [
        "First_name=input(\"enter your first name: \")\n",
        "Last_name=input(\"enter the last name: \")\n",
        "print(\"hello \"+Last_name+\" \"+First_name )"
      ],
      "metadata": {
        "id": "uyPwbJCZehY3",
        "colab": {
          "base_uri": "https://localhost:8080/"
        },
        "outputId": "a338ef52-b16a-4734-a19b-5da17cfc0dca"
      },
      "execution_count": 12,
      "outputs": [
        {
          "output_type": "stream",
          "name": "stdout",
          "text": [
            "enter your first name: kaushika\n",
            "enter the last name: Murthy\n",
            "hello Murthy kaushika\n"
          ]
        }
      ]
    },
    {
      "cell_type": "markdown",
      "source": [
        "6. Write a Python program that accepts a sequence of comma-separated numbers from the user and generates a list and a tuple of those numbers.\n"
      ],
      "metadata": {
        "id": "c03AownlhEyn"
      }
    },
    {
      "cell_type": "code",
      "source": [
        "\n",
        "values = input(\"Input some comma separated numbers: \")\n",
        "my_list = values.split(\",\")\n",
        "my_tuple = tuple(my_list)\n",
        "print('List:', my_list)\n",
        "print('Tuple:', my_tuple)\n",
        "\n"
      ],
      "metadata": {
        "colab": {
          "base_uri": "https://localhost:8080/",
          "height": 263
        },
        "id": "1kC5QThghEdY",
        "outputId": "c83360ce-7266-4cde-a312-8d83f973bab3"
      },
      "execution_count": 26,
      "outputs": [
        {
          "name": "stdout",
          "output_type": "stream",
          "text": [
            "Input some comma-separated numbers: 3, 5, 7, 23\n"
          ]
        },
        {
          "output_type": "error",
          "ename": "TypeError",
          "evalue": "ignored",
          "traceback": [
            "\u001b[0;31m---------------------------------------------------------------------------\u001b[0m",
            "\u001b[0;31mTypeError\u001b[0m                                 Traceback (most recent call last)",
            "\u001b[0;32m<ipython-input-26-55e5c3170b7b>\u001b[0m in \u001b[0;36m<cell line: 3>\u001b[0;34m()\u001b[0m\n\u001b[1;32m      1\u001b[0m \u001b[0mvalues\u001b[0m \u001b[0;34m=\u001b[0m \u001b[0minput\u001b[0m\u001b[0;34m(\u001b[0m\u001b[0;34m\"Input some comma-separated numbers: \"\u001b[0m\u001b[0;34m)\u001b[0m\u001b[0;34m\u001b[0m\u001b[0;34m\u001b[0m\u001b[0m\n\u001b[1;32m      2\u001b[0m \u001b[0mmy_list\u001b[0m \u001b[0;34m=\u001b[0m \u001b[0mvalues\u001b[0m\u001b[0;34m.\u001b[0m\u001b[0msplit\u001b[0m\u001b[0;34m(\u001b[0m\u001b[0;34m\",\"\u001b[0m\u001b[0;34m)\u001b[0m\u001b[0;34m\u001b[0m\u001b[0;34m\u001b[0m\u001b[0m\n\u001b[0;32m----> 3\u001b[0;31m \u001b[0mmy_tuple\u001b[0m \u001b[0;34m=\u001b[0m \u001b[0mtuple\u001b[0m\u001b[0;34m(\u001b[0m\u001b[0mmy_list\u001b[0m\u001b[0;34m)\u001b[0m\u001b[0;34m\u001b[0m\u001b[0;34m\u001b[0m\u001b[0m\n\u001b[0m\u001b[1;32m      4\u001b[0m \u001b[0mprint\u001b[0m\u001b[0;34m(\u001b[0m\u001b[0;34m'List:'\u001b[0m\u001b[0;34m,\u001b[0m \u001b[0mmy_list\u001b[0m\u001b[0;34m)\u001b[0m\u001b[0;34m\u001b[0m\u001b[0;34m\u001b[0m\u001b[0m\n\u001b[1;32m      5\u001b[0m \u001b[0mprint\u001b[0m\u001b[0;34m(\u001b[0m\u001b[0;34m'Tuple:'\u001b[0m\u001b[0;34m,\u001b[0m \u001b[0mmy_tuple\u001b[0m\u001b[0;34m)\u001b[0m\u001b[0;34m\u001b[0m\u001b[0;34m\u001b[0m\u001b[0m\n",
            "\u001b[0;31mTypeError\u001b[0m: 'tuple' object is not callable"
          ]
        }
      ]
    },
    {
      "cell_type": "markdown",
      "source": [
        "7. Write a Python program that accepts a filename from the user and prints the extension of the file."
      ],
      "metadata": {
        "id": "HmS6QtMonrcH"
      }
    },
    {
      "cell_type": "code",
      "source": [
        "filename= input(\"enter the name oss the file\")\n",
        "f_ext= filename.split(\".\")\n",
        "print(\"the extension of the file is: \"+repr(f_ext[-1]))"
      ],
      "metadata": {
        "colab": {
          "base_uri": "https://localhost:8080/"
        },
        "id": "qSod5cWknqs4",
        "outputId": "d1cb12d1-ed89-4e84-fd46-08618c2199bc"
      },
      "execution_count": 27,
      "outputs": [
        {
          "output_type": "stream",
          "name": "stdout",
          "text": [
            "enter the name oss the filefile.java\n",
            "the extension of the file is: 'java'\n"
          ]
        }
      ]
    },
    {
      "cell_type": "markdown",
      "source": [
        "Write a Python program to display the first and last colors from the following list.\n",
        "color_list = [\"Red\",\"Green\",\"White\" ,\"Black\"]"
      ],
      "metadata": {
        "id": "GY8aXUsoqdoi"
      }
    },
    {
      "cell_type": "code",
      "source": [
        "_"
      ],
      "metadata": {
        "id": "RwK_WK5GqjwP"
      },
      "execution_count": null,
      "outputs": []
    }
  ]
}