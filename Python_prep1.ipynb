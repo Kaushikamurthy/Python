{
  "nbformat": 4,
  "nbformat_minor": 0,
  "metadata": {
    "colab": {
      "provenance": [],
      "authorship_tag": "ABX9TyMPCYAm3FFL+Ot2Dt6Zws1I",
      "include_colab_link": true
    },
    "kernelspec": {
      "name": "python3",
      "display_name": "Python 3"
    },
    "language_info": {
      "name": "python"
    }
  },
  "cells": [
    {
      "cell_type": "markdown",
      "metadata": {
        "id": "view-in-github",
        "colab_type": "text"
      },
      "source": [
        "<a href=\"https://colab.research.google.com/github/Kaushikamurthy/Python/blob/main/Python_prep1.ipynb\" target=\"_parent\"><img src=\"https://colab.research.google.com/assets/colab-badge.svg\" alt=\"Open In Colab\"/></a>"
      ]
    },
    {
      "cell_type": "code",
      "execution_count": null,
      "metadata": {
        "colab": {
          "base_uri": "https://localhost:8080/"
        },
        "id": "wlT0PLLHBw2C",
        "outputId": "ffadbf3a-3a7f-4647-f554-6f9acafc25ce"
      },
      "outputs": [
        {
          "output_type": "stream",
          "name": "stdout",
          "text": [
            "Hello world\n"
          ]
        }
      ],
      "source": [
        "print(\"Hello world\")"
      ]
    },
    {
      "cell_type": "code",
      "source": [
        "print(\"kaushika\")"
      ],
      "metadata": {
        "colab": {
          "base_uri": "https://localhost:8080/"
        },
        "id": "oiJZ6qceDth-",
        "outputId": "0edb9bf5-0315-40e2-a5bf-3420b9a77054"
      },
      "execution_count": null,
      "outputs": [
        {
          "output_type": "stream",
          "name": "stdout",
          "text": [
            "kaushika\n"
          ]
        }
      ]
    },
    {
      "cell_type": "code",
      "source": [
        "import datetime\n",
        "now=datetime.datetime.now()\n",
        "print(\"the current date and time is:\")\n",
        "print(now.strftime(\"%d-%m-%Y  %H:%M:%S\"))"
      ],
      "metadata": {
        "id": "IsoPakXccaEa",
        "outputId": "5d2ba0ce-c351-49b7-f8ee-5b8c8440e2ac",
        "colab": {
          "base_uri": "https://localhost:8080/"
        }
      },
      "execution_count": 2,
      "outputs": [
        {
          "output_type": "stream",
          "name": "stdout",
          "text": [
            "the current date and time is:\n",
            "11-12-2023  15:18:27\n"
          ]
        }
      ]
    },
    {
      "cell_type": "code",
      "source": [
        "from math import pi\n",
        "r= float(input(\"Input the radius of the circle: \"))\n",
        "area= pi*r**2\n",
        "print(\"The area of the circle with radius \"+str(r) + \" is \"+ str(area))"
      ],
      "metadata": {
        "id": "BL1iS9GfdFPn",
        "outputId": "a6c03509-bf97-4c51-99b3-211c77954afc",
        "colab": {
          "base_uri": "https://localhost:8080/"
        }
      },
      "execution_count": 6,
      "outputs": [
        {
          "output_type": "stream",
          "name": "stdout",
          "text": [
            "Input the radius of the circle: 4\n",
            "The area of the circle with radius 4.0 is 50.26548245743669\n"
          ]
        }
      ]
    },
    {
      "cell_type": "code",
      "source": [],
      "metadata": {
        "id": "uyPwbJCZehY3"
      },
      "execution_count": null,
      "outputs": []
    }
  ]
}